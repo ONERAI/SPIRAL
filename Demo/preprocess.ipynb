{
 "cells": [
  {
   "cell_type": "code",
   "execution_count": 1,
   "id": "73bf4d24",
   "metadata": {},
   "outputs": [
    {
     "name": "stderr",
     "output_type": "stream",
     "text": [
      "/home/tguo/tguo2/miniconda3/envs/STAGATE/lib/python3.6/site-packages/tqdm/auto.py:22: TqdmWarning: IProgress not found. Please update jupyter and ipywidgets. See https://ipywidgets.readthedocs.io/en/stable/user_install.html\n",
      "  from .autonotebook import tqdm as notebook_tqdm\n"
     ]
    }
   ],
   "source": [
    "import pandas as pd\n",
    "import numpy as np\n",
    "import scanpy as sc\n",
    "import matplotlib.pyplot as plt\n",
    "import os\n",
    "import anndata\n",
    "import scipy as sp\n",
    "import umap.umap_ as umap\n",
    "import matplotlib.pyplot as plt\n",
    "from sklearn.decomposition import PCA"
   ]
  },
  {
   "cell_type": "markdown",
   "id": "43000a8e",
   "metadata": {},
   "source": [
    "MOSTA"
   ]
  },
  {
   "cell_type": "code",
   "execution_count": null,
   "id": "b099fcf0",
   "metadata": {},
   "outputs": [],
   "source": [
    "sample=['E9.5_E1S1', 'E10.5_E2S1', 'E11.5_E1S1', 'E12.5_E1S1']\n",
    "Batch_list = []\n",
    "for i in np.arange(len(sample)):\n",
    "    adata=sc.read_h5ad(\"/data02/tguo/space_batch_effect_data/MOSTA/origin/\"+sample[i]+\".MOSTA.h5ad\")\n",
    "    adata.X = adata.layers['count']\n",
    "    adata.obs_names = [x + '_' + sample[i] for x in adata.obs_names]\n",
    "    sc.pp.normalize_total(adata, target_sum=1e4)\n",
    "    sc.pp.log1p(adata)\n",
    "    sc.pp.highly_variable_genes(adata, flavor=\"seurat_v3\", n_top_genes=5000)\n",
    "    adata = adata[:, adata.var['highly_variable']]\n",
    "    Batch_list.append(adata)\n",
    "    \n",
    "adata_concat = anndata.concat(Batch_list, label=\"slice_name\", keys=sample)\n",
    "vf=np.array(adata_concat.var.index)\n",
    "for i in np.arange(len(sample)):\n",
    "    adata1=adata_concat[adata_concat.obs['slice_name']==sample[i],:]\n",
    "    cells=adata1.obs_names\n",
    "    mat=pd.DataFrame(adata1.X.todense(),index=cells,columns=vf)\n",
    "    coord=pd.DataFrame(adata1.obsm['spatial'],index=cells,columns=['x','y'])\n",
    "    meta=adata1.obs[['annotation','slice_name']]\n",
    "    meta.columns=['celltype','batch']\n",
    "    meta.index=cells\n",
    "    mat.to_csv(\"/data02/tguo/space_batch_effect_data/MOSTA/gtt_input/\"+sample[i]+\"_mat.csv\")\n",
    "    meta.to_csv(\"/data02/tguo/space_batch_effect_data/MOSTA/gtt_input/\"+sample[i]+\"_meta.csv\")\n",
    "    coord.to_csv(\"/data02/tguo/space_batch_effect_data/MOSTA/gtt_input/\"+sample[i]+\"_coord.csv\")"
   ]
  },
  {
   "cell_type": "markdown",
   "id": "adcdbe3d",
   "metadata": {},
   "source": [
    "DLPFC"
   ]
  },
  {
   "cell_type": "code",
   "execution_count": 15,
   "id": "061fefe6",
   "metadata": {},
   "outputs": [
    {
     "name": "stderr",
     "output_type": "stream",
     "text": [
      "Variable names are not unique. To make them unique, call `.var_names_make_unique`.\n",
      "Variable names are not unique. To make them unique, call `.var_names_make_unique`.\n",
      "Trying to set attribute `.obs` of view, copying.\n",
      "Variable names are not unique. To make them unique, call `.var_names_make_unique`.\n",
      "Variable names are not unique. To make them unique, call `.var_names_make_unique`.\n",
      "Trying to set attribute `.obs` of view, copying.\n",
      "Variable names are not unique. To make them unique, call `.var_names_make_unique`.\n",
      "Variable names are not unique. To make them unique, call `.var_names_make_unique`.\n",
      "Trying to set attribute `.obs` of view, copying.\n",
      "Variable names are not unique. To make them unique, call `.var_names_make_unique`.\n",
      "Variable names are not unique. To make them unique, call `.var_names_make_unique`.\n",
      "Trying to set attribute `.obs` of view, copying.\n"
     ]
    }
   ],
   "source": [
    "dirs=\"/data02/tguo/space_batch_effect/human_DLPFC_10x/\"\n",
    "sample_name=[151507,151508,151509,151510,151669,151670,151671,151672,151673,151674,151675,151676]\n",
    "IDX=np.arange(0,4)\n",
    "VF=[]\n",
    "MAT=[]\n",
    "flags=str(sample_name[IDX[0]])\n",
    "for i in np.arange(1,len(IDX)):\n",
    "    flags=flags+'-'+str(sample_name[IDX[i]])\n",
    "flags=flags+\"_\"\n",
    "for k in np.arange(len(IDX)):\n",
    "    adata = sc.read_visium(path=dirs+\"scanpy_file/\"+str(sample_name[IDX[k]])+\"/\",\n",
    "                       count_file=\"filtered_feature_bc_matrix.h5\")\n",
    "    adata.var_names_make_unique()\n",
    "    Ann_df=pd.read_csv(dirs+\"input/\"+str(sample_name[IDX[k]])+\"_label.txt\", sep=',', header=0, index_col=0)\n",
    "    Ann_df.columns=['Ground Truth','Sample']\n",
    "    Ann_df.index=[i.split('-')[1]+'-'+i.split('-')[2] for i in Ann_df.index]\n",
    "    adata=adata[Ann_df.index,:]\n",
    "    adata.obs['Ground Truth']=Ann_df.loc[:,'Ground Truth']\n",
    "    sc.pp.highly_variable_genes(adata, flavor=\"seurat_v3\", n_top_genes=1000)\n",
    "    sc.pp.normalize_total(adata, target_sum=1e4)\n",
    "    sc.pp.log1p(adata)\n",
    "    adata.obs['batch']=str(sample_name[IDX[k]])\n",
    "    cells=[str(sample_name[IDX[k]])+'-'+i for i in adata.obs_names]\n",
    "    mat1=pd.DataFrame(adata.X.toarray(),columns=adata.var_names,index=cells)\n",
    "    coord1=pd.DataFrame(adata.obsm['spatial'],columns=['x','y'],index=cells)\n",
    "    meta1=adata.obs[['Ground Truth', 'batch']]\n",
    "    meta1.columns=['celltype','batch']\n",
    "    meta1.index=cells\n",
    "    meta1.to_csv(dirs+\"gtt_input_scanpy/\"+flags+str(sample_name[IDX[k]])+\"_label-1.txt\")\n",
    "    coord1.to_csv(dirs+\"gtt_input_scanpy/\"+flags+str(sample_name[IDX[k]])+\"_positions-1.txt\")\n",
    "    MAT.append(mat1)\n",
    "    VF=np.union1d(VF,adata.var_names[adata.var['highly_variable']])"
   ]
  },
  {
   "cell_type": "code",
   "execution_count": 16,
   "id": "fd8774bd",
   "metadata": {},
   "outputs": [],
   "source": [
    "for i in np.arange(len(IDX)):\n",
    "    mat=MAT[i]\n",
    "    mat=mat.loc[:,VF]\n",
    "    mat.to_csv(dirs+\"gtt_input_scanpy/\"+flags+str(sample_name[IDX[i]])+\"_features-1.txt\")"
   ]
  },
  {
   "cell_type": "code",
   "execution_count": 18,
   "id": "30ab32d3",
   "metadata": {},
   "outputs": [
    {
     "data": {
      "text/html": [
       "<div>\n",
       "<style scoped>\n",
       "    .dataframe tbody tr th:only-of-type {\n",
       "        vertical-align: middle;\n",
       "    }\n",
       "\n",
       "    .dataframe tbody tr th {\n",
       "        vertical-align: top;\n",
       "    }\n",
       "\n",
       "    .dataframe thead th {\n",
       "        text-align: right;\n",
       "    }\n",
       "</style>\n",
       "<table border=\"1\" class=\"dataframe\">\n",
       "  <thead>\n",
       "    <tr style=\"text-align: right;\">\n",
       "      <th></th>\n",
       "      <th>celltype</th>\n",
       "      <th>batch</th>\n",
       "    </tr>\n",
       "  </thead>\n",
       "  <tbody>\n",
       "    <tr>\n",
       "      <th>151510-AAACAAGTATCTCCCA-1</th>\n",
       "      <td>L1</td>\n",
       "      <td>151510</td>\n",
       "    </tr>\n",
       "    <tr>\n",
       "      <th>151510-AAACACCAATAACTGC-1</th>\n",
       "      <td>L5</td>\n",
       "      <td>151510</td>\n",
       "    </tr>\n",
       "    <tr>\n",
       "      <th>151510-AAACAGAGCGACTCCT-1</th>\n",
       "      <td>L3</td>\n",
       "      <td>151510</td>\n",
       "    </tr>\n",
       "    <tr>\n",
       "      <th>151510-AAACAGCTTTCAGAAG-1</th>\n",
       "      <td>L4</td>\n",
       "      <td>151510</td>\n",
       "    </tr>\n",
       "    <tr>\n",
       "      <th>151510-AAACAGGGTCTATATT-1</th>\n",
       "      <td>L4</td>\n",
       "      <td>151510</td>\n",
       "    </tr>\n",
       "    <tr>\n",
       "      <th>...</th>\n",
       "      <td>...</td>\n",
       "      <td>...</td>\n",
       "    </tr>\n",
       "    <tr>\n",
       "      <th>151510-TTGTTTCACATCCAGG-1</th>\n",
       "      <td>L4</td>\n",
       "      <td>151510</td>\n",
       "    </tr>\n",
       "    <tr>\n",
       "      <th>151510-TTGTTTCATTAGTCTA-1</th>\n",
       "      <td>L5</td>\n",
       "      <td>151510</td>\n",
       "    </tr>\n",
       "    <tr>\n",
       "      <th>151510-TTGTTTCCATACAACT-1</th>\n",
       "      <td>L3</td>\n",
       "      <td>151510</td>\n",
       "    </tr>\n",
       "    <tr>\n",
       "      <th>151510-TTGTTTGTATTACACG-1</th>\n",
       "      <td>L6</td>\n",
       "      <td>151510</td>\n",
       "    </tr>\n",
       "    <tr>\n",
       "      <th>151510-TTGTTTGTGTAAATTC-1</th>\n",
       "      <td>L3</td>\n",
       "      <td>151510</td>\n",
       "    </tr>\n",
       "  </tbody>\n",
       "</table>\n",
       "<p>4595 rows × 2 columns</p>\n",
       "</div>"
      ],
      "text/plain": [
       "                          celltype   batch\n",
       "151510-AAACAAGTATCTCCCA-1       L1  151510\n",
       "151510-AAACACCAATAACTGC-1       L5  151510\n",
       "151510-AAACAGAGCGACTCCT-1       L3  151510\n",
       "151510-AAACAGCTTTCAGAAG-1       L4  151510\n",
       "151510-AAACAGGGTCTATATT-1       L4  151510\n",
       "...                            ...     ...\n",
       "151510-TTGTTTCACATCCAGG-1       L4  151510\n",
       "151510-TTGTTTCATTAGTCTA-1       L5  151510\n",
       "151510-TTGTTTCCATACAACT-1       L3  151510\n",
       "151510-TTGTTTGTATTACACG-1       L6  151510\n",
       "151510-TTGTTTGTGTAAATTC-1       L3  151510\n",
       "\n",
       "[4595 rows x 2 columns]"
      ]
     },
     "execution_count": 18,
     "metadata": {},
     "output_type": "execute_result"
    }
   ],
   "source": [
    "meta1"
   ]
  },
  {
   "cell_type": "code",
   "execution_count": null,
   "id": "00bdbe48",
   "metadata": {},
   "outputs": [],
   "source": []
  }
 ],
 "metadata": {
  "kernelspec": {
   "display_name": "Python36",
   "language": "python",
   "name": "python36"
  },
  "language_info": {
   "codemirror_mode": {
    "name": "ipython",
    "version": 3
   },
   "file_extension": ".py",
   "mimetype": "text/x-python",
   "name": "python",
   "nbconvert_exporter": "python",
   "pygments_lexer": "ipython3",
   "version": "3.6.15"
  }
 },
 "nbformat": 4,
 "nbformat_minor": 5
}
