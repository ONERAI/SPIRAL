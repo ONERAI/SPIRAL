{
 "cells": [
  {
   "cell_type": "code",
   "execution_count": null,
   "id": "632fd825",
   "metadata": {},
   "outputs": [],
   "source": [
    "import os\n",
    "import numpy as np\n",
    "import argparse\n",
    "\n",
    "import pandas as pd\n",
    "from sklearn.decomposition import PCA\n",
    "from operator import itemgetter\n",
    "import random\n",
    "import matplotlib.pyplot as plt\n",
    "import umap.umap_ as umap\n",
    "import time\n",
    "import torch\n",
    "\n",
    "from spiral.main import SPIRAL_integration\n",
    "from spiral.layers import *\n",
    "from spiral.utils import *\n",
    "from spiral.CoordAlignment import CoordAlignment\n",
    "\n",
    "R_dirs=\"/home/tguo/tguo2/miniconda3/envs/stnet/lib/R\"\n",
    "os.environ['CUDA_VISIBLE_DEVICES'] = '0'"
   ]
  },
  {
   "cell_type": "markdown",
   "id": "6ad7b656",
   "metadata": {},
   "source": [
    "Step1:SPIRAL integration"
   ]
  },
  {
   "cell_type": "markdown",
   "id": "cf0916b1",
   "metadata": {},
   "source": [
    "INPUT:"
   ]
  },
  {
   "cell_type": "markdown",
   "id": "52ee409a",
   "metadata": {},
   "source": [
    "feat:ncell * ngene matrix"
   ]
  },
  {
   "cell_type": "markdown",
   "id": "b3888f35",
   "metadata": {},
   "source": [
    "edge:nedge * 2: obtained from GenerateEdges.ipynb"
   ]
  },
  {
   "cell_type": "markdown",
   "id": "23cdcdd0",
   "metadata": {},
   "source": [
    "meta:ncell * 1或ncell * 2,containing batch information，columns is  'batch'"
   ]
  },
  {
   "cell_type": "code",
   "execution_count": null,
   "id": "09a349be",
   "metadata": {},
   "outputs": [],
   "source": [
    "dirs=\"/data02/tguo/space_batch_effect/human_DLPFC_10x/\"\n",
    "sample_name=np.array([151507,151508,151509,151510,151669,151670,151671,151672,151673,151674,151675,151676])\n",
    "samples=sample_name\n",
    "SEP=','\n",
    "net_cate='_KNN_'\n",
    "rad=150\n",
    "knn=6\n",
    "\n",
    "N_WALKS=knn\n",
    "WALK_LEN=1\n",
    "N_WALK_LEN=knn\n",
    "NUM_NEG=knn\n",
    "\n",
    "feat_file=[]\n",
    "edge_file=[]\n",
    "meta_file=[]\n",
    "flags=''\n",
    "flags1=str(samples[0])\n",
    "for i in range(1,len(samples)):\n",
    "    flags1=flags1+'-'+str(samples[i])\n",
    "for i in range(len(samples)):\n",
    "    feat_file.append(dirs+\"gtt_input_scanpy/\"+flags1+'_'+str(samples[i])+\"_features.txt\")\n",
    "    edge_file.append(dirs+\"gtt_input_scanpy/\"+flags1+'_'+str(samples[i])+\"_edge_KNN_\"+str(knn)+\".csv\")\n",
    "    meta_file.append(dirs+\"gtt_input_scanpy/\"+flags1+'_'+str(samples[i])+\"_label.txt\")\n",
    "    flags=flags+'_'+str(samples[i])\n",
    "N=pd.read_csv(feat_file[0],header=0,index_col=0).shape[1]\n",
    "if (len(samples)==2):\n",
    "    M=1\n",
    "else:\n",
    "    M=len(samples)"
   ]
  },
  {
   "cell_type": "code",
   "execution_count": null,
   "id": "a2aa02c6",
   "metadata": {},
   "outputs": [],
   "source": [
    "parser = argparse.ArgumentParser()\n",
    "\n",
    "parser.add_argument('--seed', type=int, default=0, help='The seed of initialization.')\n",
    "parser.add_argument('--AEdims', type=list, default=[N,[512],32], help='Dim of encoder.')\n",
    "parser.add_argument('--AEdimsR', type=list, default=[32,[512],N], help='Dim of decoder.')\n",
    "parser.add_argument('--GSdims', type=list, default=[512,32], help='Dim of GraphSAGE.')\n",
    "parser.add_argument('--zdim', type=int, default=32, help='Dim of embedding.')\n",
    "parser.add_argument('--znoise_dim', type=int, default=4, help='Dim of noise embedding.')\n",
    "parser.add_argument('--CLdims', type=list, default=[4,[],M], help='Dim of classifier.')\n",
    "parser.add_argument('--DIdims', type=list, default=[28,[32,16],M], help='Dim of discriminator.')\n",
    "parser.add_argument('--beta', type=float, default=1.0, help='weight of GraphSAGE.')\n",
    "parser.add_argument('--agg_class', type=str, default=MeanAggregator, help='Function of aggregator.')\n",
    "parser.add_argument('--num_samples', type=str, default=knn, help='number of neighbors to sample.')\n",
    "\n",
    "parser.add_argument('--N_WALKS', type=int, default=N_WALKS, help='number of walks of random work for postive pairs.')\n",
    "parser.add_argument('--WALK_LEN', type=int, default=WALK_LEN, help='walk length of random work for postive pairs.')\n",
    "parser.add_argument('--N_WALK_LEN', type=int, default=N_WALK_LEN, help='number of walks of random work for negative pairs.')\n",
    "parser.add_argument('--NUM_NEG', type=int, default=NUM_NEG, help='number of negative pairs.')\n",
    "\n",
    "\n",
    "parser.add_argument('--epochs', type=int, default=100, help='Number of epochs to train.')\n",
    "parser.add_argument('--batch_size', type=int, default=1024, help='Size of batches to train.')\n",
    "parser.add_argument('--lr', type=float, default=1e-3, help='Initial learning rate.')\n",
    "parser.add_argument('--weight_decay', type=float, default=5e-4, help='Weight decay.')\n",
    "parser.add_argument('--alpha1', type=float, default=N, help='Weight of decoder loss.')\n",
    "parser.add_argument('--alpha2', type=float, default=1, help='Weight of GraphSAGE loss.')\n",
    "parser.add_argument('--alpha3', type=float, default=1, help='Weight of classifier loss.')\n",
    "parser.add_argument('--alpha4', type=float, default=1, help='Weight of discriminator loss.')\n",
    "parser.add_argument('--lamda', type=float, default=1, help='Weight of GRL.')\n",
    "parser.add_argument('--Q', type=float, default=10, help='Weight negative loss for sage losss.')\n",
    "\n",
    "params,unknown=parser.parse_known_args()"
   ]
  },
  {
   "cell_type": "code",
   "execution_count": null,
   "id": "2813e379",
   "metadata": {},
   "outputs": [],
   "source": [
    "SPII=SPIRAL_integration(params,feat_file,edge_file,meta_file)\n",
    "SPII.train()\n",
    "if not os.path.exists(dirs+\"model/\"):\n",
    "    os.makedirs(dirs+\"model/\")\n",
    "model_file=dirs+\"model/SPIRAL\"+flags+\"_model_\"+str(SPII.params.batch_size)+\".pt\"\n",
    "torch.save(SPII.model.state_dict(),model_file)"
   ]
  },
  {
   "cell_type": "code",
   "execution_count": null,
   "id": "26d74694",
   "metadata": {},
   "outputs": [],
   "source": [
    "SPII.model.eval()\n",
    "all_idx=np.arange(SPII.feat.shape[0])\n",
    "all_layer,all_mapping=layer_map(all_idx.tolist(),SPII.adj,len(SPII.params.GSdims))\n",
    "all_rows=SPII.adj.tolil().rows[all_layer[0]]\n",
    "all_feature=torch.Tensor(SPII.feat.iloc[all_layer[0],:].values).float().cuda()\n",
    "all_embed,ae_out,clas_out,disc_out=SPII.model(all_feature,all_layer,all_mapping,all_rows,SPII.params.lamda,SPII.de_act,SPII.cl_act)\n",
    "[ae_embed,gs_embed,embed]=all_embed\n",
    "[x_bar,x]=ae_out\n",
    "embed=embed.cpu().detach()\n",
    "names=['GTT_'+str(i) for i in range(embed.shape[1])]\n",
    "embed1=pd.DataFrame(np.array(embed),index=SPII.feat.index,columns=names)\n",
    "if not os.path.exists(dirs+\"gtt_output/\"):\n",
    "    os.makedirs(dirs+\"gtt_output/\")\n",
    "    \n",
    "embed_file=dirs+\"gtt_output/SPIRAL\"+flags+\"_embed_\"+str(SPII.params.batch_size)+\".csv\"\n",
    "embed1.to_csv(embed_file)\n"
   ]
  },
  {
   "cell_type": "markdown",
   "id": "3dcd03d0",
   "metadata": {},
   "source": [
    "step2: clustering"
   ]
  },
  {
   "cell_type": "code",
   "execution_count": null,
   "id": "fc33f543",
   "metadata": {},
   "outputs": [],
   "source": [
    "import anndata\n",
    "import scanpy as sc\n",
    "ann=anndata.AnnData(SPII.feat)\n",
    "ann.obsm['spiral']=embed1.iloc[:,SPII.params.znoise_dim:]\n",
    "sc.pp.neighbors(ann,use_rep='spiral')\n",
    "sc.tl.leiden(ann,resolution=1.2)\n",
    "sc.tl.louvain(ann,resolution=1.2)\n",
    "ann.obs['batch']=SPII.meta.loc[:,'batch']\n",
    "ub=np.unique(ann.obs['batch'])\n",
    "sc.tl.umap(ann)\n",
    "coord=pd.read_csv(coord_file[0],header=0,index_col=0)\n",
    "for i in np.arange(1,len(samples)):\n",
    "    coord=pd.concat((coord,pd.read_csv(coord_file[i],header=0,index_col=0)))\n",
    "\n",
    "coord.columns=['y','x']\n",
    "ann.obsm['spatial']=coord.loc[ann.obs_names,:]\n",
    "cluster_file=dirs+\"gtt_output/SPIRAL\"+flags+\"_louvain.csv\"\n",
    "pd.DataFrame(ann.obs['louvain']).to_csv(cluster_file)"
   ]
  },
  {
   "cell_type": "code",
   "execution_count": null,
   "id": "57ccccc1",
   "metadata": {},
   "outputs": [],
   "source": [
    "# sc.pl.umap(ann,color='louvain')\n",
    "# sc.pl.umap(ann,color='batch')\n",
    "# sc.pl.umap(ann,color='celltype')\n",
    "sc.tl.louvain(ann,resolution=1.2)\n",
    "ann1=ann[ann.obs['batch']==ub[0],:]\n",
    "sc.pl.spatial(ann1,color=\"louvain\", spot_size=100)\n",
    "ann1=ann[ann.obs['batch']==ub[1],:]\n",
    "sc.pl.spatial(ann1,color=\"louvain\", spot_size=100)\n",
    "ann1=ann[ann.obs['batch']==ub[2],:]\n",
    "sc.pl.spatial(ann1,color=\"louvain\", spot_size=100)\n",
    "ann1=ann[ann.obs['batch']==ub[3],:]\n",
    "sc.pl.spatial(ann1,color=\"louvain\", spot_size=100)"
   ]
  },
  {
   "cell_type": "markdown",
   "id": "c539e9ac",
   "metadata": {},
   "source": [
    "step3: SPIRAL alignment"
   ]
  },
  {
   "cell_type": "code",
   "execution_count": null,
   "id": "039b6d7d",
   "metadata": {},
   "outputs": [],
   "source": [
    "clust_cate='louvain'\n",
    "input_file=[meta_file,coord_file,embed_file,cluster_file]\n",
    "output_dirs=dirs+\"gtt_output/SPIRAL_alignment/\"\n",
    "if not os.path.exists(output_dirs):\n",
    "    os.makedirs(output_dirs)\n",
    "ub=samples"
   ]
  },
  {
   "cell_type": "code",
   "execution_count": null,
   "id": "e6d5ef88",
   "metadata": {},
   "outputs": [],
   "source": [
    "alpha=0.5\n",
    "types=\"weighted_mean\"\n",
    "R_dirs=\"/home/tguo/tguo2/miniconda3/envs/stnet/lib/R\"\n",
    "CA=CoordAlignment(input_file=input_file,output_dirs=output_dirs,ub=ub,flags=flags,clust_cate=clust_cate,R_dirs=R_dirs,alpha=alpha,types=types)\n",
    "New_Coord=CA.New_Coord\n",
    "New_Coord.to_csv(output_dirs+\"new_coord\"+flags+\"_rotate\"+str(angle)+\"_modify.csv\")\n",
    "# ann.obsm['aligned_spatial']=New_Coord.loc[ann.obs_names,:].values"
   ]
  }
 ],
 "metadata": {
  "kernelspec": {
   "display_name": "torch",
   "language": "python",
   "name": "torch"
  },
  "language_info": {
   "codemirror_mode": {
    "name": "ipython",
    "version": 3
   },
   "file_extension": ".py",
   "mimetype": "text/x-python",
   "name": "python",
   "nbconvert_exporter": "python",
   "pygments_lexer": "ipython3",
   "version": "3.6.13"
  }
 },
 "nbformat": 4,
 "nbformat_minor": 5
}
