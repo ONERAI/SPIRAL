{
 "cells": [
  {
   "cell_type": "code",
   "execution_count": 1,
   "id": "2235d0c5",
   "metadata": {},
   "outputs": [],
   "source": [
    "from sklearn.neighbors import KNeighborsClassifier\n",
    "import numpy as np\n",
    "import pandas as pd\n",
    "from sklearn.metrics.pairwise import euclidean_distances"
   ]
  },
  {
   "cell_type": "code",
   "execution_count": 16,
   "id": "08ebb797",
   "metadata": {},
   "outputs": [],
   "source": [
    "dirs=\"/data02/tguo/space_batch_effect/mouse_OB/\"\n",
    "sample_name=[\"BGI\",\"SlideV2\",\"10X\"]\n",
    "sample_name=[\"BGI\",\"SlideV2\",\"scRNA\"]\n",
    "flags1='_'+sample_name[0]+'_'+sample_name[1]\n",
    "flags2='_'+sample_name[0]+'_'+sample_name[1]+'_'+sample_name[2]\n",
    "clusters=pd.read_csv(dirs+'metrics/louvain_clust'+flags1+'.csv',index_col=0,header=0)\n",
    "# coord=pd.read_csv(dirs+\"gtt_input/10X_coord.csv\",header=0,index_col=0,sep=',')\n",
    "embed_all=pd.read_csv(dirs+'gtt_output/AGC_embed'+flags2+\"_expression_xent.csv\",header=0,index_col=0,sep=',')\n",
    "if embed_all.shape[1]==16:\n",
    "    znoise_dim=2\n",
    "else:\n",
    "    znoise_dim=4\n",
    "embed_all=embed_all.iloc[:,znoise_dim:]\n",
    "meta=pd.read_csv(dirs+\"gtt_input/\"+str(sample_name[0])+\"_meta.csv\",header=0,index_col=0,sep=',')\n",
    "for sample in np.array(sample_name)[1:len(sample_name)]:\n",
    "    meta=pd.concat((meta,pd.read_csv(dirs+\"gtt_input/\"+str(sample)+\"_meta.csv\",header=0,index_col=0,sep=',')))\n",
    "meta['celltype'][meta['celltype']=='SEZ']='GCL'\n",
    "meta['celltype'][meta['celltype']=='Meninges']='ONL'\n",
    "meta['celltype'][meta['celltype']=='OPL']='EPL'\n",
    "cells=meta.index[meta['celltype']!='Low_Quality']\n",
    "embed_all=embed_all.loc[cells,:]\n",
    "meta=meta.loc[cells,]\n",
    "meta=meta.loc[cells,]\n",
    "idx1=np.where(meta['batch']!=sample_name[2])[0]\n",
    "idx2=np.where(meta['batch']==sample_name[2])[0]\n",
    "embed_train=embed_all.iloc[idx1,:]\n",
    "embed_test=embed_all.iloc[idx2,:]\n",
    "clusters=clusters.loc[embed_train.index,:]\n"
   ]
  },
  {
   "cell_type": "code",
   "execution_count": 18,
   "id": "603bb38c",
   "metadata": {},
   "outputs": [],
   "source": [
    "KNN=6\n",
    "KNN=10\n",
    "KNC=KNeighborsClassifier(n_neighbors=KNN)\n",
    "KNC.fit(embed_train.values,clusters.values[:,0])\n",
    "cluster_pred=KNC.predict(embed_test.values)\n",
    "cluster_pred=pd.DataFrame(cluster_pred,index=embed_test.index,columns=['pred_clusters'])\n",
    "cluster_pred.to_csv(dirs+'metrics/'+sample_name[2]+'_expression_pred_clusters.csv')"
   ]
  },
  {
   "cell_type": "code",
   "execution_count": null,
   "id": "c32f27d0",
   "metadata": {},
   "outputs": [],
   "source": [
    "celltype=pd.read_csv(dirs+\"gtt_input/\"+sample_name[2]+\"_meta.csv\",header=0,index_col=0,sep=',')\n",
    "celltype=celltype.iloc[:,0].values"
   ]
  },
  {
   "cell_type": "code",
   "execution_count": 22,
   "id": "0c1ece7d",
   "metadata": {},
   "outputs": [
    {
     "data": {
      "text/plain": [
       "0.2449800028803275"
      ]
     },
     "execution_count": 22,
     "metadata": {},
     "output_type": "execute_result"
    }
   ],
   "source": [
    "from sklearn.metrics.cluster import adjusted_rand_score\n",
    "adjusted_rand_score(celltype,cluster_pred.values[:,0])"
   ]
  },
  {
   "cell_type": "code",
   "execution_count": 4,
   "id": "b1752fc3",
   "metadata": {},
   "outputs": [],
   "source": [
    "def refine(sample_id, pred, dis, shape=\"hexagon\"):\n",
    "    refined_pred=[]\n",
    "    pred=pd.DataFrame({\"pred\": pred}, index=sample_id)\n",
    "    dis_df=pd.DataFrame(dis, index=sample_id, columns=sample_id)\n",
    "    if shape==\"hexagon\":\n",
    "        num_nbs=6 \n",
    "    elif shape==\"square\":\n",
    "        num_nbs=4\n",
    "    else:\n",
    "        print(\"Shape not recongized, shape='hexagon' for Visium data, 'square' for ST data.\")\n",
    "    for i in range(len(sample_id)):\n",
    "        index=sample_id[i]\n",
    "        dis_tmp=dis_df.loc[index, :].sort_values()\n",
    "        nbs=dis_tmp[0:num_nbs+1]\n",
    "        nbs_pred=pred.loc[nbs.index, \"pred\"]\n",
    "        self_pred=pred.loc[index, \"pred\"]\n",
    "        v_c=nbs_pred.value_counts()\n",
    "        if (v_c.loc[self_pred]<(num_nbs+1)/2) and (np.max(v_c)>(num_nbs+1)/2):\n",
    "            refined_pred.append(v_c.idxmax())\n",
    "        else:           \n",
    "            refined_pred.append(self_pred)\n",
    "    return refined_pred"
   ]
  },
  {
   "cell_type": "code",
   "execution_count": 5,
   "id": "2912fa5b",
   "metadata": {},
   "outputs": [],
   "source": [
    "pred=cluster_pred\n",
    "dis=euclidean_distances(coord,coord)\n",
    "refined_pred=refine(np.array(pred.index), pred.values[:,0], dis, shape=\"hexagon\")\n",
    "refined_pred=pd.DataFrame(refined_pred,index=embed_test.index,columns=['pred_clusters'])\n",
    "refined_pred.to_csv(dirs+'metrics/10X_pred_clusters.csv')"
   ]
  },
  {
   "cell_type": "code",
   "execution_count": 19,
   "id": "e9d522ab",
   "metadata": {},
   "outputs": [],
   "source": [
    "celltype=pd.read_csv(dirs+\"gtt_input/\"+sample_name[2]+\"_meta.csv\",header=0,index_col=0,sep=',')\n",
    "celltype=celltype.iloc[:,0].values"
   ]
  },
  {
   "cell_type": "code",
   "execution_count": 21,
   "id": "ceeaf5e8",
   "metadata": {
    "collapsed": true
   },
   "outputs": [
    {
     "ename": "ValueError",
     "evalue": "Found input variables with inconsistent numbers of samples: [21746, 1185]",
     "output_type": "error",
     "traceback": [
      "\u001b[0;31m---------------------------------------------------------------------------\u001b[0m",
      "\u001b[0;31mValueError\u001b[0m                                Traceback (most recent call last)",
      "\u001b[0;32m<ipython-input-21-15e99b1d7848>\u001b[0m in \u001b[0;36m<module>\u001b[0;34m()\u001b[0m\n\u001b[1;32m      1\u001b[0m \u001b[0;32mfrom\u001b[0m \u001b[0msklearn\u001b[0m\u001b[0;34m.\u001b[0m\u001b[0mmetrics\u001b[0m\u001b[0;34m.\u001b[0m\u001b[0mcluster\u001b[0m \u001b[0;32mimport\u001b[0m \u001b[0madjusted_rand_score\u001b[0m\u001b[0;34m\u001b[0m\u001b[0;34m\u001b[0m\u001b[0m\n\u001b[0;32m----> 2\u001b[0;31m \u001b[0madjusted_rand_score\u001b[0m\u001b[0;34m(\u001b[0m\u001b[0mcelltype\u001b[0m\u001b[0;34m,\u001b[0m\u001b[0mrefined_pred\u001b[0m\u001b[0;34m.\u001b[0m\u001b[0mvalues\u001b[0m\u001b[0;34m[\u001b[0m\u001b[0;34m:\u001b[0m\u001b[0;34m,\u001b[0m\u001b[0;36m0\u001b[0m\u001b[0;34m]\u001b[0m\u001b[0;34m)\u001b[0m\u001b[0;34m\u001b[0m\u001b[0;34m\u001b[0m\u001b[0m\n\u001b[0m",
      "\u001b[0;32m/home/tguo/tguo2/miniconda3/envs/stnet/lib/python3.6/site-packages/sklearn/metrics/cluster/_supervised.py\u001b[0m in \u001b[0;36madjusted_rand_score\u001b[0;34m(labels_true, labels_pred)\u001b[0m\n\u001b[1;32m    381\u001b[0m     \u001b[0madjusted_mutual_info_score\u001b[0m \u001b[0;34m:\u001b[0m \u001b[0mAdjusted\u001b[0m \u001b[0mMutual\u001b[0m \u001b[0mInformation\u001b[0m\u001b[0;34m.\u001b[0m\u001b[0;34m\u001b[0m\u001b[0;34m\u001b[0m\u001b[0m\n\u001b[1;32m    382\u001b[0m     \"\"\"\n\u001b[0;32m--> 383\u001b[0;31m     \u001b[0;34m(\u001b[0m\u001b[0mtn\u001b[0m\u001b[0;34m,\u001b[0m \u001b[0mfp\u001b[0m\u001b[0;34m)\u001b[0m\u001b[0;34m,\u001b[0m \u001b[0;34m(\u001b[0m\u001b[0mfn\u001b[0m\u001b[0;34m,\u001b[0m \u001b[0mtp\u001b[0m\u001b[0;34m)\u001b[0m \u001b[0;34m=\u001b[0m \u001b[0mpair_confusion_matrix\u001b[0m\u001b[0;34m(\u001b[0m\u001b[0mlabels_true\u001b[0m\u001b[0;34m,\u001b[0m \u001b[0mlabels_pred\u001b[0m\u001b[0;34m)\u001b[0m\u001b[0;34m\u001b[0m\u001b[0;34m\u001b[0m\u001b[0m\n\u001b[0m\u001b[1;32m    384\u001b[0m \u001b[0;34m\u001b[0m\u001b[0m\n\u001b[1;32m    385\u001b[0m     \u001b[0;31m# Special cases: empty data or full agreement\u001b[0m\u001b[0;34m\u001b[0m\u001b[0;34m\u001b[0m\u001b[0;34m\u001b[0m\u001b[0m\n",
      "\u001b[0;32m/home/tguo/tguo2/miniconda3/envs/stnet/lib/python3.6/site-packages/sklearn/metrics/cluster/_supervised.py\u001b[0m in \u001b[0;36mpair_confusion_matrix\u001b[0;34m(labels_true, labels_pred)\u001b[0m\n\u001b[1;32m    212\u001b[0m       \u001b[0mhttps\u001b[0m\u001b[0;34m:\u001b[0m\u001b[0;34m//\u001b[0m\u001b[0mlink\u001b[0m\u001b[0;34m.\u001b[0m\u001b[0mspringer\u001b[0m\u001b[0;34m.\u001b[0m\u001b[0mcom\u001b[0m\u001b[0;34m/\u001b[0m\u001b[0marticle\u001b[0m\u001b[0;34m/\u001b[0m\u001b[0;36m10.1007\u001b[0m\u001b[0;34m%\u001b[0m\u001b[0;36m2\u001b[0m\u001b[0mFBF01908075\u001b[0m\u001b[0;34m\u001b[0m\u001b[0;34m\u001b[0m\u001b[0m\n\u001b[1;32m    213\u001b[0m     \"\"\"\n\u001b[0;32m--> 214\u001b[0;31m     \u001b[0mlabels_true\u001b[0m\u001b[0;34m,\u001b[0m \u001b[0mlabels_pred\u001b[0m \u001b[0;34m=\u001b[0m \u001b[0mcheck_clusterings\u001b[0m\u001b[0;34m(\u001b[0m\u001b[0mlabels_true\u001b[0m\u001b[0;34m,\u001b[0m \u001b[0mlabels_pred\u001b[0m\u001b[0;34m)\u001b[0m\u001b[0;34m\u001b[0m\u001b[0;34m\u001b[0m\u001b[0m\n\u001b[0m\u001b[1;32m    215\u001b[0m     \u001b[0mn_samples\u001b[0m \u001b[0;34m=\u001b[0m \u001b[0mnp\u001b[0m\u001b[0;34m.\u001b[0m\u001b[0mint64\u001b[0m\u001b[0;34m(\u001b[0m\u001b[0mlabels_true\u001b[0m\u001b[0;34m.\u001b[0m\u001b[0mshape\u001b[0m\u001b[0;34m[\u001b[0m\u001b[0;36m0\u001b[0m\u001b[0;34m]\u001b[0m\u001b[0;34m)\u001b[0m\u001b[0;34m\u001b[0m\u001b[0;34m\u001b[0m\u001b[0m\n\u001b[1;32m    216\u001b[0m \u001b[0;34m\u001b[0m\u001b[0m\n",
      "\u001b[0;32m/home/tguo/tguo2/miniconda3/envs/stnet/lib/python3.6/site-packages/sklearn/metrics/cluster/_supervised.py\u001b[0m in \u001b[0;36mcheck_clusterings\u001b[0;34m(labels_true, labels_pred)\u001b[0m\n\u001b[1;32m     65\u001b[0m         raise ValueError(\n\u001b[1;32m     66\u001b[0m             \"labels_pred must be 1D: shape is %r\" % (labels_pred.shape,))\n\u001b[0;32m---> 67\u001b[0;31m     \u001b[0mcheck_consistent_length\u001b[0m\u001b[0;34m(\u001b[0m\u001b[0mlabels_true\u001b[0m\u001b[0;34m,\u001b[0m \u001b[0mlabels_pred\u001b[0m\u001b[0;34m)\u001b[0m\u001b[0;34m\u001b[0m\u001b[0;34m\u001b[0m\u001b[0m\n\u001b[0m\u001b[1;32m     68\u001b[0m \u001b[0;34m\u001b[0m\u001b[0m\n\u001b[1;32m     69\u001b[0m     \u001b[0;32mreturn\u001b[0m \u001b[0mlabels_true\u001b[0m\u001b[0;34m,\u001b[0m \u001b[0mlabels_pred\u001b[0m\u001b[0;34m\u001b[0m\u001b[0;34m\u001b[0m\u001b[0m\n",
      "\u001b[0;32m/home/tguo/tguo2/miniconda3/envs/stnet/lib/python3.6/site-packages/sklearn/utils/validation.py\u001b[0m in \u001b[0;36mcheck_consistent_length\u001b[0;34m(*arrays)\u001b[0m\n\u001b[1;32m    318\u001b[0m     \u001b[0;32mif\u001b[0m \u001b[0mlen\u001b[0m\u001b[0;34m(\u001b[0m\u001b[0muniques\u001b[0m\u001b[0;34m)\u001b[0m \u001b[0;34m>\u001b[0m \u001b[0;36m1\u001b[0m\u001b[0;34m:\u001b[0m\u001b[0;34m\u001b[0m\u001b[0;34m\u001b[0m\u001b[0m\n\u001b[1;32m    319\u001b[0m         raise ValueError(\"Found input variables with inconsistent numbers of\"\n\u001b[0;32m--> 320\u001b[0;31m                          \" samples: %r\" % [int(l) for l in lengths])\n\u001b[0m\u001b[1;32m    321\u001b[0m \u001b[0;34m\u001b[0m\u001b[0m\n\u001b[1;32m    322\u001b[0m \u001b[0;34m\u001b[0m\u001b[0m\n",
      "\u001b[0;31mValueError\u001b[0m: Found input variables with inconsistent numbers of samples: [21746, 1185]"
     ]
    }
   ],
   "source": [
    "from sklearn.metrics.cluster import adjusted_rand_score\n",
    "adjusted_rand_score(celltype,refined_pred.values[:,0])"
   ]
  },
  {
   "cell_type": "code",
   "execution_count": 20,
   "id": "d6876980",
   "metadata": {},
   "outputs": [
    {
     "data": {
      "text/plain": [
       "array(['Granule_cell', 'Granule_cell', 'Granule_cell', ...,\n",
       "       'Mitral_and_tufted_cell', 'Mitral_and_tufted_cell',\n",
       "       'Mitral_and_tufted_cell'], dtype=object)"
      ]
     },
     "execution_count": 20,
     "metadata": {},
     "output_type": "execute_result"
    }
   ],
   "source": [
    "celltype"
   ]
  },
  {
   "cell_type": "code",
   "execution_count": null,
   "id": "8e336d59",
   "metadata": {},
   "outputs": [],
   "source": []
  }
 ],
 "metadata": {
  "kernelspec": {
   "display_name": "torch",
   "language": "python",
   "name": "torch"
  },
  "language_info": {
   "codemirror_mode": {
    "name": "ipython",
    "version": 3
   },
   "file_extension": ".py",
   "mimetype": "text/x-python",
   "name": "python",
   "nbconvert_exporter": "python",
   "pygments_lexer": "ipython3",
   "version": "3.6.13"
  }
 },
 "nbformat": 4,
 "nbformat_minor": 5
}
