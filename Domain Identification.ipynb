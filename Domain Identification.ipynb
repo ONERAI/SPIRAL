{
 "cells": [
  {
   "cell_type": "code",
   "execution_count": 2,
   "id": "953eb1ba",
   "metadata": {},
   "outputs": [],
   "source": [
    "library(Seurat)\n",
    "library(harmony)\n",
    "library(SeuratData)\n",
    "library(ggplot2)\n",
    "library(patchwork)\n",
    "library(mclust)\n",
    "library(aricode)"
   ]
  },
  {
   "cell_type": "code",
   "execution_count": 4,
   "id": "1efa500a",
   "metadata": {},
   "outputs": [],
   "source": [
    "create_obj<-function(data_file,meta_file,coord_file){\n",
    "    data=read.csv(data_file,header=T,row.names=1,sep=',')\n",
    "    meta=read.csv(meta_file,header=T,row.names=1,sep=',')\n",
    "    coord=read.csv(coord_file,header=T,row.names=1,sep=',')\n",
    "    if(dim(data)[1]==dim(meta)[1]){data=t(data)}\n",
    "    \n",
    "    data=as(as.matrix(data),'dgCMatrix')\n",
    "    obj<-CreateSeuratObject(counts=data,min.cells=0, min.features=0,meta.data=meta)\n",
    "    VariableFeatures(obj)<-rownames(obj)\n",
    "    obj@assays$RNA@scale.data=as.matrix(count)\n",
    "    obj<-ScaleData(obj)\n",
    "    obj<-RunPCA(obj,npcs=50)\n",
    "    obj<-RunUMAP(obj,reduction='pca',dims=1:50)\n",
    "    obj@images$image<-new(\n",
    "        Class = 'SlideSeq',\n",
    "        assay = \"Spatial\",\n",
    "        key = \"image_\",\n",
    "        coordinates = coord\n",
    "    )\n",
    "    return(obj)\n",
    "}\n",
    "clustering<-function(obj,embed_file){\n",
    "    embed1=read.csv(embed_file,header=T,row.names=1)\n",
    "    obj[['GTT']]<-CreateDimReducObject(embeddings=as.matrix(embed1), key = \"GTT_\", assay = DefaultAssay(obj))\n",
    "    obj <-RunUMAP(obj, reduction = \"GTT\",dims=1:dim(embed1)[2],reduction.name=\"GTT.umap\")\n",
    "    obj<-FindNeighbors(obj, dims=1:dim(embed1)[2],reduction=\"GTT\")\n",
    "    obj<-FindClusters(obj, resolution =res1)\n",
    "    obj$gtt=obj$seurat_clusters\n",
    "    return(obj)\n",
    "}"
   ]
  },
  {
   "cell_type": "code",
   "execution_count": null,
   "id": "41885553",
   "metadata": {},
   "outputs": [],
   "source": []
  }
 ],
 "metadata": {
  "kernelspec": {
   "display_name": "seurat1",
   "language": "R",
   "name": "seurat1"
  },
  "language_info": {
   "codemirror_mode": "r",
   "file_extension": ".r",
   "mimetype": "text/x-r-source",
   "name": "R",
   "pygments_lexer": "r",
   "version": "4.1.1"
  }
 },
 "nbformat": 4,
 "nbformat_minor": 5
}
