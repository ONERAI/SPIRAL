{
 "cells": [
  {
   "cell_type": "code",
   "execution_count": 6,
   "id": "05e527b6",
   "metadata": {},
   "outputs": [],
   "source": [
    "import os\n",
    "import numpy as np\n",
    "\n",
    "\n",
    "\n",
    "import pandas as pd\n",
    "from sklearn.decomposition import PCA\n",
    "from operator import itemgetter\n",
    "import random\n",
    "import matplotlib.pyplot as plt\n",
    "import umap.umap_ as umap\n",
    "import time\n",
    "\n",
    "import torch\n",
    "from main import SPIRAL_integration\n",
    "import argparse\n",
    "from layers import *\n",
    "from utils import *\n",
    "\n",
    "# device = torch.device(\"cuda:0\" if torch.cuda.is_available() else \"cpu\")\n",
    "# cuda=torch.cuda.is_available()\n",
    "# device=np.arange(torch.cuda.device_count())\n",
    "# if cuda:\n",
    "#     torch.cuda.set_device(device)\n",
    "\n",
    "os.environ['CUDA_VISIBLE_DEVICES'] = '1'"
   ]
  },
  {
   "cell_type": "code",
   "execution_count": 17,
   "id": "376366cc",
   "metadata": {},
   "outputs": [],
   "source": [
    "############train#############\n",
    "torch.cuda.cudnn_enabled = False\n",
    "seed=0\n",
    "np.random.seed(seed)\n",
    "torch.manual_seed(seed)\n",
    "torch.cuda.manual_seed(seed)\n",
    "random.seed(seed)"
   ]
  },
  {
   "cell_type": "code",
   "execution_count": 12,
   "id": "a5ebd3b0",
   "metadata": {},
   "outputs": [],
   "source": [
    "dirs=\"/data02/tguo/space_batch_effect/mouse_brain/\"\n",
    "samples=[\"all_posterior1\",\"all_posterior2\",\"all_anterior1\",\"all_anterior2\"]\n",
    "# samples=[\"pa_anterior1\",\"pa_posterior1\"]\n",
    "SEP=','\n",
    "net_cate='_KNN_'\n",
    "knn=6\n",
    "\n",
    "N_WALKS=knn\n",
    "WALK_LEN=1\n",
    "N_WALK_LEN=knn\n",
    "NUM_NEG=6\n",
    "\n",
    "\n",
    "feat_file=[]\n",
    "edge_file=[]\n",
    "meta_file=[]\n",
    "flags=''\n",
    "for i in range(len(samples)):\n",
    "    feat_file.append(dirs+\"gtt_input/\"+str(samples[i])+\"_mat.csv\")\n",
    "    edge_file.append(dirs+\"gtt_input/\"+str(samples[i])+\"_edge\"+net_cate+str(knn)+\".csv\")\n",
    "    meta_file.append(dirs+\"gtt_input/\"+str(samples[i])+\"_meta.csv\")\n",
    "    flags=flags+'_'+samples[i]\n",
    "N=pd.read_csv(feat_file[0],header=0,index_col=0).shape[1]\n",
    "M=4"
   ]
  },
  {
   "cell_type": "code",
   "execution_count": 21,
   "id": "1fd4e132",
   "metadata": {},
   "outputs": [],
   "source": [
    "parser = argparse.ArgumentParser()\n",
    "\n",
    "parser.add_argument('--AEdims', type=list, default=[N,[512],32], help='Dim of encoder.')\n",
    "parser.add_argument('--AEdimsR', type=list, default=[32,[512],N], help='Dim of decoder.')\n",
    "parser.add_argument('--GSdims', type=list, default=[512,32], help='Dim of GraphSAGE.')\n",
    "parser.add_argument('--zdim', type=int, default=32, help='Dim of embedding.')\n",
    "parser.add_argument('--znoise_dim', type=int, default=4, help='Dim of noise embedding.')\n",
    "parser.add_argument('--CLdims', type=list, default=[4,[],M], help='Dim of classifier.')\n",
    "parser.add_argument('--DIdims', type=list, default=[28,[32,16],M], help='Dim of discriminator.')\n",
    "parser.add_argument('--beta', type=float, default=1.0, help='weight of GraphSAGE.')\n",
    "parser.add_argument('--agg_class', type=str, default=MeanAggregator, help='Function of aggregator.')\n",
    "parser.add_argument('--num_samples', type=str, default=20, help='number of neighbors to sample.')\n",
    "\n",
    "parser.add_argument('--N_WALKS', type=str, default=6, help='number of walks of random work for postive pairs.')\n",
    "parser.add_argument('--WALK_LEN', type=str, default=1, help='walk length of random work for postive pairs.')\n",
    "parser.add_argument('--N_WALK_LEN', type=str, default=6, help='number of walks of random work for negative pairs.')\n",
    "parser.add_argument('--NUM_NEG', type=str, default=6, help='number of negative pairs.')\n",
    "\n",
    "\n",
    "parser.add_argument('--epochs', type=int, default=100, help='Number of epochs to train.')\n",
    "parser.add_argument('--batch_size', type=int, default=1024, help='Size of batches to train.')\n",
    "parser.add_argument('--lr', type=float, default=1e-3, help='Initial learning rate.')\n",
    "parser.add_argument('--weight_decay', type=float, default=5e-4, help='Weight decay.')\n",
    "parser.add_argument('--alpha1', type=float, default=N, help='Weight of decoder loss.')\n",
    "parser.add_argument('--alpha2', type=float, default=1, help='Weight of GraphSAGE loss.')\n",
    "parser.add_argument('--alpha3', type=float, default=1, help='Weight of classifier loss.')\n",
    "parser.add_argument('--alpha4', type=float, default=1, help='Weight of discriminator loss.')\n",
    "parser.add_argument('--lamda', type=float, default=1, help='Weight of GRL.')\n",
    "parser.add_argument('--Q', type=float, default=10, help='Weight negative loss for sage losss .')\n",
    "\n",
    "\n",
    "params,unknown=parser.parse_known_args()"
   ]
  },
  {
   "cell_type": "code",
   "execution_count": 22,
   "id": "71e58f7b",
   "metadata": {},
   "outputs": [],
   "source": [
    "SPII=SPIRAL_integration(params,feat_file,edge_file,meta_file)"
   ]
  },
  {
   "cell_type": "code",
   "execution_count": null,
   "id": "442abe16",
   "metadata": {},
   "outputs": [
    {
     "name": "stdout",
     "output_type": "stream",
     "text": [
      "--------------------------------\n",
      "Training.\n",
      "processed: 4:   4%|▍         | 4/100 [10:57<4:23:03, 164.42s/it, CLAS_loss=1.39, DISC_loss=1.33, GS_loss=2.28, total_loss=687]    "
     ]
    }
   ],
   "source": [
    "SPII.train()"
   ]
  },
  {
   "cell_type": "code",
   "execution_count": null,
   "id": "9e8fb0d9",
   "metadata": {},
   "outputs": [],
   "source": [
    "SPII.model.eval()\n",
    "all_idx=np.arange(SPII.feat.shape[0])\n",
    "all_layer,all_mapping=layer_map(all_idx.tolist(),SPII.adj,len(SPII.params.GSdims))\n",
    "all_rows=SPII.adj.tolil().rows[all_layer[0]]\n",
    "all_feature=torch.Tensor(SPII.feat.iloc[all_layer[0],:].values).float().cuda()\n",
    "all_embed,ae_out,clas_out,disc_out=SPII.model(all_feature,all_layer,all_mapping,all_rows,SPII.params.lamda,SPII.de_act,SPII.cl_act)\n",
    "[ae_embed,gs_embed,embed]=all_embed\n",
    "[x_bar,x]=ae_out\n",
    "embed=embed.cpu().detach()\n",
    "names=['GTT_'+str(i) for i in range(embed.shape[1])]"
   ]
  },
  {
   "cell_type": "code",
   "execution_count": null,
   "id": "2d58d428",
   "metadata": {},
   "outputs": [],
   "source": [
    "celltype=SPII.meta[:,0]\n",
    "batch=SPII.meta[:,1]\n",
    "ul=np.unique(celltype)\n",
    "ub=np.unique(batch)\n",
    "import umap.umap_ as umap\n",
    "import matplotlib.pyplot as plt\n",
    "umap_mat=umap.UMAP().fit_transform(embed[:,SPII.params.znoise_dim:])\n",
    "colour2=['r','g','black','cyan','blue','purple','yellow','grey']\n",
    "colour1=['lightcoral','red','tomato','chocolate','darkorange','gold','olive','yellow','yellowgreen','lawngreen','forestgreen','lime',\n",
    "       'cyan','deepskyblue','dodgerblue','royalblue','blue','blueviolet','purple','fuchsia','hotpink','pink','gray','black','teal']\n",
    "f, axs= plt.subplots(1,2,figsize=(20,10))\n",
    "size=10\n",
    "for i in range(len(ul)):\n",
    "    axs[0].scatter(umap_mat[np.where(celltype==ul[i])[0],0],umap_mat[np.where(celltype==ul[i])[0],1],c=colour1[i],s=size)\n",
    "\n",
    "axs[0].set_xlabel(\"umap1\",fontsize=30)\n",
    "axs[0].set_ylabel(\"umap2\",fontsize=30)\n",
    "axs[0].legend(ul,loc=\"best\",fontsize=20,markerscale=4,bbox_to_anchor=(-0.19,1))\n",
    "axs[0].tick_params(axis='both', which='major', labelsize=20)\n",
    "for i in range(len(ub)):\n",
    "    axs[1].scatter(umap_mat[np.where(batch==ub[i])[0],0],umap_mat[np.where(batch==ub[i])[0],1],c=colour2[i],s=size)\n",
    "axs[1].set_xlabel(\"umap1\",fontsize=30)\n",
    "axs[1].legend(ub,loc=\"best\",fontsize=20,markerscale=4,bbox_to_anchor=(1.4,1))\n",
    "axs[1].tick_params(axis='both', which='major', labelsize=20)"
   ]
  },
  {
   "cell_type": "code",
   "execution_count": null,
   "id": "16e86730",
   "metadata": {},
   "outputs": [],
   "source": [
    "######predict unseen data#########\n",
    "SPII=SPIRAL_integration(params,feat_file,edge_file,meta_file)\n",
    "SPII.load_model()\n",
    "SPII.model.eval()\n",
    "all_idx=np.arange(SPII.feat.shape[0])\n",
    "all_layer,all_mapping=layer_map(all_idx.tolist(),SPII.adj,len(SPII.params.GSdims))\n",
    "all_rows=SPII.adj.tolil().rows[all_layer[0]]\n",
    "all_feature=torch.Tensor(SPII.feat.iloc[all_layer[0],:].values).float().cuda()\n",
    "all_embed,ae_out,clas_out,disc_out=SPII.model(all_feature,all_layer,all_mapping,all_rows,SPII.params.lamda,SPII.de_act,SPII.cl_act)\n",
    "[ae_embed,gs_embed,embed]=all_embed\n",
    "[x_bar,x]=ae_out\n",
    "embed=embed.cpu().detach()\n",
    "names=['GTT_'+str(i) for i in range(embed.shape[1])]"
   ]
  }
 ],
 "metadata": {
  "kernelspec": {
   "display_name": "torch",
   "language": "python",
   "name": "torch"
  },
  "language_info": {
   "codemirror_mode": {
    "name": "ipython",
    "version": 3
   },
   "file_extension": ".py",
   "mimetype": "text/x-python",
   "name": "python",
   "nbconvert_exporter": "python",
   "pygments_lexer": "ipython3",
   "version": "3.6.13"
  }
 },
 "nbformat": 4,
 "nbformat_minor": 5
}
